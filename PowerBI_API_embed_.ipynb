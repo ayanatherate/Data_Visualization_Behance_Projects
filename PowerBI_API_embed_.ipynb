{
 "cells": [
  {
   "cell_type": "markdown",
   "id": "9a86ee44",
   "metadata": {},
   "source": [
    "# Using Power BI API to access and edit reports"
   ]
  },
  {
   "cell_type": "markdown",
   "id": "43eca61a",
   "metadata": {},
   "source": [
    "Requirements"
   ]
  },
  {
   "cell_type": "code",
   "execution_count": null,
   "id": "86bd2ae8",
   "metadata": {},
   "outputs": [],
   "source": [
    "!pip install python-power-bi"
   ]
  },
  {
   "cell_type": "code",
   "execution_count": null,
   "id": "af1b00db",
   "metadata": {},
   "outputs": [],
   "source": [
    "!pip install powerbiclient"
   ]
  },
  {
   "cell_type": "markdown",
   "id": "eb203af4",
   "metadata": {},
   "source": [
    "N.B. Refrain from using jupyterlab for this one. For some reason, powerbiclient can't access reports with lab.\n",
    "Use Jupyternotebook for best performance."
   ]
  },
  {
   "cell_type": "code",
   "execution_count": null,
   "id": "388f9f22",
   "metadata": {},
   "outputs": [],
   "source": [
    "from pprint import pprint\n",
    "from powerbi.client import PowerBiClient\n",
    "import json\n",
    "from powerbiclient import Report, models\n",
    "from io import StringIO"
   ]
  },
  {
   "cell_type": "markdown",
   "id": "7d74fad4",
   "metadata": {},
   "source": [
    "Authorization process. I've hidden my client_id and client_secret. Kindly generate your own and use it here.\n",
    "Step by step guide to generate client_id and client_secret can be found in this video:\n",
    "    \n",
    "https://www.youtube.com/watch?v=_2eGAjm1I4w&t=1636s"
   ]
  },
  {
   "cell_type": "code",
   "execution_count": null,
   "id": "df7514f0",
   "metadata": {},
   "outputs": [],
   "source": [
    "power_bi_client = PowerBiClient(\n",
    "  client_id='xxxxxxxx-xxxx-xxxx-xxxx-xxxxxxxxxxxx',\n",
    "  client_secret='xxxxxxxxxxxxxxxxxxxxxxxxxxxxxxxxxxxx',\n",
    "  scope=['https://analysis.windows.net/powerbi/api/.default'],\n",
    "  redirect_uri='https://localhost/redirect',\n",
    "  credentials=r'C:\\Users\\User\\Downloads\\anscombe.json')\n"
   ]
  },
  {
   "cell_type": "code",
   "execution_count": null,
   "id": "d5ef4374",
   "metadata": {},
   "outputs": [],
   "source": [
    "\n",
    "f=open(r'C:\\Users\\User\\Downloads\\anscombe.json') #accessing and storing the access_token present in the credentials json file\n",
    "                                                 #that was created above, for future use."
   ]
  },
  {
   "cell_type": "code",
   "execution_count": null,
   "id": "650cef30",
   "metadata": {},
   "outputs": [],
   "source": [
    "data=json.load(f)\n",
    "access_token=data['access_token']"
   ]
  },
  {
   "cell_type": "code",
   "execution_count": null,
   "id": "e8aa61f0",
   "metadata": {
    "scrolled": true
   },
   "outputs": [],
   "source": [
    "report_service=power_bi_client.reports()\n",
    "report_info_json=report_service.get_reports() #generates a json data of all reports currently published in User Workspace\n",
    "                                              #in Power BI account"
   ]
  },
  {
   "cell_type": "code",
   "execution_count": null,
   "id": "a8af373c",
   "metadata": {},
   "outputs": [
    {
     "data": {
      "text/plain": [
       "{'@odata.context': 'http://wabi-south-east-asia-redirect.analysis.windows.net/v1.0/myorg/$metadata#reports',\n",
       " 'value': [{'id': 'cb1aa14a-9f2c-4a77-9969-d8268f1772fd',\n",
       "   'reportType': 'PowerBIReport',\n",
       "   'name': 'EDA_powerbi',\n",
       "   'webUrl': 'https://app.powerbi.com/groups/me/reports/cb1aa14a-9f2c-4a77-9969-d8268f1772fd',\n",
       "   'embedUrl': 'https://app.powerbi.com/reportEmbed?reportId=cb1aa14a-9f2c-4a77-9969-d8268f1772fd&config=eyJjbHVzdGVyVXJsIjoiaHR0cHM6Ly9XQUJJLVNPVVRILUVBU1QtQVNJQS1yZWRpcmVjdC5hbmFseXNpcy53aW5kb3dzLm5ldCIsImVtYmVkRmVhdHVyZXMiOnsibW9kZXJuRW1iZWQiOnRydWUsInVzYWdlTWV0cmljc1ZOZXh0Ijp0cnVlfX0%3d',\n",
       "   'isOwnedByMe': True,\n",
       "   'datasetId': '38f1b068-112f-41cf-853a-858a89be7085',\n",
       "   'users': [],\n",
       "   'subscriptions': []},\n",
       "  {'id': 'fed3510c-9b45-4639-b699-4283a6acd33c',\n",
       "   'reportType': 'PowerBIReport',\n",
       "   'name': 'tgfcyv',\n",
       "   'webUrl': 'https://app.powerbi.com/groups/me/reports/fed3510c-9b45-4639-b699-4283a6acd33c',\n",
       "   'embedUrl': 'https://app.powerbi.com/reportEmbed?reportId=fed3510c-9b45-4639-b699-4283a6acd33c&config=eyJjbHVzdGVyVXJsIjoiaHR0cHM6Ly9XQUJJLVNPVVRILUVBU1QtQVNJQS1yZWRpcmVjdC5hbmFseXNpcy53aW5kb3dzLm5ldCIsImVtYmVkRmVhdHVyZXMiOnsibW9kZXJuRW1iZWQiOnRydWUsInVzYWdlTWV0cmljc1ZOZXh0Ijp0cnVlfX0%3d',\n",
       "   'isOwnedByMe': True,\n",
       "   'datasetId': 'd33b0c41-7b4c-4dd8-944f-502f3bddf1c4',\n",
       "   'users': [],\n",
       "   'subscriptions': []}]}"
      ]
     },
     "execution_count": 192,
     "metadata": {},
     "output_type": "execute_result"
    }
   ],
   "source": [
    "report_info_json"
   ]
  },
  {
   "cell_type": "markdown",
   "id": "8b5afb3f",
   "metadata": {},
   "source": [
    "I'm interested in the report named 'EDA_powerbi'. To access it here, I would have to use it's embedUrl as present\n",
    "in the json output, along with the access_code as gathered eariler."
   ]
  },
  {
   "cell_type": "code",
   "execution_count": null,
   "id": "b151998f",
   "metadata": {},
   "outputs": [],
   "source": [
    "embed_url=report_info_json['value'][0]['embedUrl']\n",
    "#embed_url"
   ]
  },
  {
   "cell_type": "code",
   "execution_count": null,
   "id": "70d5fae9",
   "metadata": {},
   "outputs": [],
   "source": [
    "report=Report(embed_url=embed_url,access_token=access_token)"
   ]
  },
  {
   "cell_type": "code",
   "execution_count": null,
   "id": "03ae7866",
   "metadata": {
    "scrolled": false
   },
   "outputs": [
    {
     "data": {
      "application/vnd.jupyter.widget-view+json": {
       "model_id": "5e28f441cd3f41cbb66a20f2de4aaff8",
       "version_major": 2,
       "version_minor": 0
      },
      "text/plain": [
       "Report()"
      ]
     },
     "metadata": {},
     "output_type": "display_data"
    }
   ],
   "source": [
    "report\n",
    "#live responsive power bi report accessed"
   ]
  },
  {
   "cell_type": "code",
   "execution_count": null,
   "id": "adab849a",
   "metadata": {},
   "outputs": [
    {
     "data": {
      "text/plain": [
       "'ReportSection'"
      ]
     },
     "execution_count": 163,
     "metadata": {},
     "output_type": "execute_result"
    }
   ],
   "source": [
    "active_page=report.get_pages()[0]['name']\n",
    "active_page"
   ]
  },
  {
   "cell_type": "code",
   "execution_count": null,
   "id": "5ee06abe",
   "metadata": {},
   "outputs": [
    {
     "data": {
      "text/plain": [
       "[{'name': 'a4e6c8e2bd1060000010',\n",
       "  'title': 'Profit by Country',\n",
       "  'type': 'lineChart',\n",
       "  'layout': {'x': 22,\n",
       "   'y': 290,\n",
       "   'z': 0,\n",
       "   'width': 348,\n",
       "   'height': 408,\n",
       "   'displayState': {'mode': 0}}},\n",
       " {'name': 'b4d05cd0aa4b844d0e62',\n",
       "  'title': 'Card',\n",
       "  'type': 'card',\n",
       "  'layout': {'x': 22,\n",
       "   'y': 24,\n",
       "   'z': 1000,\n",
       "   'width': 348,\n",
       "   'height': 256,\n",
       "   'displayState': {'mode': 0}}},\n",
       " {'name': '6a16b80d0800a9340ea5',\n",
       "  'title': 'Card',\n",
       "  'type': 'card',\n",
       "  'layout': {'x': 386,\n",
       "   'y': 24,\n",
       "   'z': 2000,\n",
       "   'width': 304,\n",
       "   'height': 256,\n",
       "   'displayState': {'mode': 0}}},\n",
       " {'name': '125eeedf0505da903779',\n",
       "  'title': 'Card',\n",
       "  'type': 'card',\n",
       "  'layout': {'x': 708,\n",
       "   'y': 24,\n",
       "   'z': 3000,\n",
       "   'width': 192,\n",
       "   'height': 256,\n",
       "   'displayState': {'mode': 0}}},\n",
       " {'name': '52620c0bc0255d1053ce',\n",
       "  'title': 'Profit, Discounts and Units Sold by Product',\n",
       "  'type': 'barChart',\n",
       "  'layout': {'x': 384,\n",
       "   'y': 290,\n",
       "   'z': 4000,\n",
       "   'width': 516,\n",
       "   'height': 408,\n",
       "   'displayState': {'mode': 0}}},\n",
       " {'name': '5489e3fbb8aa5916a91b',\n",
       "  'title': 'Gross Sales and Profit by Month Name',\n",
       "  'type': 'areaChart',\n",
       "  'layout': {'x': 918,\n",
       "   'y': 290,\n",
       "   'z': 5000,\n",
       "   'width': 340,\n",
       "   'height': 408,\n",
       "   'displayState': {'mode': 0}}},\n",
       " {'name': '7b6f2081a0c641a71234',\n",
       "  'title': 'Profit and Profit by Year',\n",
       "  'type': 'donutChart',\n",
       "  'layout': {'x': 918,\n",
       "   'y': 24,\n",
       "   'z': 6000,\n",
       "   'width': 340,\n",
       "   'height': 256,\n",
       "   'displayState': {'mode': 0}}}]"
      ]
     },
     "execution_count": 167,
     "metadata": {},
     "output_type": "execute_result"
    }
   ],
   "source": [
    "visuals=report.visuals_on_page(active_page)\n",
    "visuals"
   ]
  },
  {
   "cell_type": "markdown",
   "id": "8ffcbb8d",
   "metadata": {},
   "source": [
    "# Other stuff that can be accessed through the API."
   ]
  },
  {
   "cell_type": "markdown",
   "id": "28094634",
   "metadata": {},
   "source": [
    "Honestly, this is just the tip of the iceberg. Feel free to play around with the REST API. Official documentation:\n",
    "    \n",
    "https://docs.microsoft.com/en-us/rest/api/power-bi/"
   ]
  },
  {
   "cell_type": "code",
   "execution_count": null,
   "id": "8e9c9449",
   "metadata": {},
   "outputs": [
    {
     "data": {
      "text/plain": [
       "{'@odata.context': 'http://wabi-south-east-asia-redirect.analysis.windows.net/v1.0/myorg/$metadata#groups',\n",
       " '@odata.count': 1,\n",
       " 'value': [{'id': '9d7d3f8f-982e-45c9-a85b-a379ff887f26',\n",
       "   'isReadOnly': False,\n",
       "   'isOnDedicatedCapacity': False,\n",
       "   'type': 'Workspace',\n",
       "   'name': 'SSQ'}]}"
      ]
     },
     "execution_count": 145,
     "metadata": {},
     "output_type": "execute_result"
    }
   ],
   "source": [
    "group_service=power_bi_client.groups()\n",
    "\n",
    "group_service.get_groups() #workspaces/groups along with their ID's"
   ]
  },
  {
   "cell_type": "code",
   "execution_count": null,
   "id": "eb900244",
   "metadata": {},
   "outputs": [
    {
     "data": {
      "text/plain": [
       "{'@odata.context': 'http://wabi-south-east-asia-redirect.analysis.windows.net/v1.0/myorg/$metadata#dashboards',\n",
       " 'value': [{'id': '8304d583-332f-4686-8dc9-06931ba43f40',\n",
       "   'displayName': 'my_new_dashboard',\n",
       "   'isReadOnly': False,\n",
       "   'webUrl': 'https://app.powerbi.com/groups/me/dashboards/8304d583-332f-4686-8dc9-06931ba43f40',\n",
       "   'embedUrl': 'https://app.powerbi.com/dashboardEmbed?dashboardId=8304d583-332f-4686-8dc9-06931ba43f40&config=eyJjbHVzdGVyVXJsIjoiaHR0cHM6Ly9XQUJJLVNPVVRILUVBU1QtQVNJQS1yZWRpcmVjdC5hbmFseXNpcy53aW5kb3dzLm5ldCIsImVtYmVkRmVhdHVyZXMiOnsibW9kZXJuRW1iZWQiOmZhbHNlfX0%3d',\n",
       "   'users': [],\n",
       "   'subscriptions': []},\n",
       "  {'id': '8e243120-f379-44b0-9af5-2dced720cd2b',\n",
       "   'displayName': 'sales-of-shampoo-over-a-three-ye.csv',\n",
       "   'isReadOnly': False,\n",
       "   'webUrl': 'https://app.powerbi.com/groups/me/dashboards/8e243120-f379-44b0-9af5-2dced720cd2b',\n",
       "   'embedUrl': 'https://app.powerbi.com/dashboardEmbed?dashboardId=8e243120-f379-44b0-9af5-2dced720cd2b&config=eyJjbHVzdGVyVXJsIjoiaHR0cHM6Ly9XQUJJLVNPVVRILUVBU1QtQVNJQS1yZWRpcmVjdC5hbmFseXNpcy53aW5kb3dzLm5ldCIsImVtYmVkRmVhdHVyZXMiOnsibW9kZXJuRW1iZWQiOmZhbHNlfX0%3d',\n",
       "   'users': [],\n",
       "   'subscriptions': []},\n",
       "  {'id': 'e7b389a6-d90a-47b5-a9de-4146ded28ef0',\n",
       "   'displayName': 'test',\n",
       "   'isReadOnly': False,\n",
       "   'webUrl': 'https://app.powerbi.com/groups/me/dashboards/e7b389a6-d90a-47b5-a9de-4146ded28ef0',\n",
       "   'embedUrl': 'https://app.powerbi.com/dashboardEmbed?dashboardId=e7b389a6-d90a-47b5-a9de-4146ded28ef0&config=eyJjbHVzdGVyVXJsIjoiaHR0cHM6Ly9XQUJJLVNPVVRILUVBU1QtQVNJQS1yZWRpcmVjdC5hbmFseXNpcy53aW5kb3dzLm5ldCIsImVtYmVkRmVhdHVyZXMiOnsibW9kZXJuRW1iZWQiOmZhbHNlfX0%3d',\n",
       "   'users': [],\n",
       "   'subscriptions': []},\n",
       "  {'id': '3e9eeecc-f5db-4602-b4b0-7a72872a4df3',\n",
       "   'displayName': 'my_new_dashboard',\n",
       "   'isReadOnly': False,\n",
       "   'webUrl': 'https://app.powerbi.com/groups/me/dashboards/3e9eeecc-f5db-4602-b4b0-7a72872a4df3',\n",
       "   'embedUrl': 'https://app.powerbi.com/dashboardEmbed?dashboardId=3e9eeecc-f5db-4602-b4b0-7a72872a4df3&config=eyJjbHVzdGVyVXJsIjoiaHR0cHM6Ly9XQUJJLVNPVVRILUVBU1QtQVNJQS1yZWRpcmVjdC5hbmFseXNpcy53aW5kb3dzLm5ldCIsImVtYmVkRmVhdHVyZXMiOnsibW9kZXJuRW1iZWQiOmZhbHNlfX0%3d',\n",
       "   'users': [],\n",
       "   'subscriptions': []},\n",
       "  {'id': '94229b6d-c2d1-4a8c-9a24-ae4ec6f4f1f7',\n",
       "   'displayName': 'my_new_dashboard',\n",
       "   'isReadOnly': False,\n",
       "   'webUrl': 'https://app.powerbi.com/groups/me/dashboards/94229b6d-c2d1-4a8c-9a24-ae4ec6f4f1f7',\n",
       "   'embedUrl': 'https://app.powerbi.com/dashboardEmbed?dashboardId=94229b6d-c2d1-4a8c-9a24-ae4ec6f4f1f7&config=eyJjbHVzdGVyVXJsIjoiaHR0cHM6Ly9XQUJJLVNPVVRILUVBU1QtQVNJQS1yZWRpcmVjdC5hbmFseXNpcy53aW5kb3dzLm5ldCIsImVtYmVkRmVhdHVyZXMiOnsibW9kZXJuRW1iZWQiOmZhbHNlfX0%3d',\n",
       "   'users': [],\n",
       "   'subscriptions': []}]}"
      ]
     },
     "execution_count": 146,
     "metadata": {},
     "output_type": "execute_result"
    }
   ],
   "source": [
    "dashboard_service=power_bi_client.dashboards()\n",
    "dashboard_service.get_dashboards() #dasboards along with their ID's"
   ]
  },
  {
   "cell_type": "markdown",
   "id": "94248f20",
   "metadata": {},
   "source": [
    "<h3>FINAL THOUGHTS</h3>"
   ]
  },
  {
   "cell_type": "markdown",
   "id": "ceb07d67",
   "metadata": {},
   "source": [
    "Other features include adding new tiles, dashboards and even creating a new dataset and pushing it to Power BI Workspace. The step by step guide can be found in the following video from Sigma Coding's You Tube channel:\n",
    "\n",
    "https://www.youtube.com/watch?v=gGDY8MNuK1w"
   ]
  }
 ],
 "metadata": {
  "kernelspec": {
   "display_name": "Python 3 (ipykernel)",
   "language": "python",
   "name": "python3"
  },
  "language_info": {
   "codemirror_mode": {
    "name": "ipython",
    "version": 3
   },
   "file_extension": ".py",
   "mimetype": "text/x-python",
   "name": "python",
   "nbconvert_exporter": "python",
   "pygments_lexer": "ipython3",
   "version": "3.9.7"
  }
 },
 "nbformat": 4,
 "nbformat_minor": 5
}
