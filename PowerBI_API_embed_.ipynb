{
 "cells": [
  {
   "cell_type": "markdown",
   "id": "d4ed06a5",
   "metadata": {},
   "source": [
    "# Using Power BI API to access and edit reports"
   ]
  },
  {
   "cell_type": "markdown",
   "id": "2b7c098b",
   "metadata": {},
   "source": [
    "Requirements"
   ]
  },
  {
   "cell_type": "code",
   "execution_count": null,
   "id": "906b39be",
   "metadata": {},
   "outputs": [],
   "source": [
    "!pip install python-power-bi"
   ]
  },
  {
   "cell_type": "code",
   "execution_count": null,
   "id": "3c6026fa",
   "metadata": {},
   "outputs": [],
   "source": [
    "!pip install powerbiclient"
   ]
  },
  {
   "cell_type": "markdown",
   "id": "459d7361",
   "metadata": {},
   "source": [
    "N.B. Refrain from using jupyterlab for this one. For some reason, powerbiclient can't access reports with lab.\n",
    "Use Jupyternotebook for best performance."
   ]
  },
  {
   "cell_type": "code",
   "execution_count": 196,
   "id": "35afaa41",
   "metadata": {},
   "outputs": [],
   "source": [
    "from pprint import pprint\n",
    "from powerbi.client import PowerBiClient\n",
    "import json\n",
    "from powerbiclient import Report, models\n",
    "from io import StringIO"
   ]
  },
  {
   "cell_type": "markdown",
   "id": "65e69111",
   "metadata": {},
   "source": [
    "Authorization process. I've hidden my client_id and client_secret. Kindly generate your own and use it here.\n",
    "Step by step guide to generate client_id and client_secret can be found in this video:\n",
    "    \n",
    "https://www.youtube.com/watch?v=_2eGAjm1I4w&t=1636s"
   ]
  },
  {
   "cell_type": "code",
   "execution_count": 197,
   "id": "1d8b4a54",
   "metadata": {},
   "outputs": [],
   "source": [
    "power_bi_client = PowerBiClient(\n",
    "  client_id='xxxxxxxx-xxxx-xxxx-xxxx-xxxxxxxxxxxx',\n",
    "  client_secret='xxxxxxxxxxxxxxxxxxxxxxxxxxxxxxxxxxxx',\n",
    "  scope=['https://analysis.windows.net/powerbi/api/.default'],\n",
    "  redirect_uri='https://localhost/redirect',\n",
    "  credentials=r'C:\\Users\\User\\Downloads\\anscombe.json')\n"
   ]
  },
  {
   "cell_type": "code",
   "execution_count": 198,
   "id": "76fb8b42",
   "metadata": {},
   "outputs": [],
   "source": [
    "\n",
    "f=open(r'C:\\Users\\User\\Downloads\\anscombe.json') #accessing and storing the access_token present in the credentials json file\n",
    "                                                 #that was created above, for future use."
   ]
  },
  {
   "cell_type": "code",
   "execution_count": 199,
   "id": "233cde50",
   "metadata": {},
   "outputs": [],
   "source": [
    "data=json.load(f)\n",
    "access_token=data['access_token']"
   ]
  },
  {
   "cell_type": "code",
   "execution_count": 200,
   "id": "bb96d9ca",
   "metadata": {
    "scrolled": true
   },
   "outputs": [],
   "source": [
    "report_service=power_bi_client.reports()\n",
    "report_info_json=report_service.get_reports() #generates a json data of all reports currently published in User Workspace\n",
    "                                              #in Power BI account"
   ]
  },
  {
   "cell_type": "code",
   "execution_count": 192,
   "id": "38aa88c7",
   "metadata": {},
   "outputs": [
    {
     "data": {
      "text/plain": [
       "{'@odata.context': 'http://wabi-south-east-asia-redirect.analysis.windows.net/v1.0/myorg/$metadata#reports',\n",
       " 'value': [{'id': 'cb1aa14a-9f2c-4a77-9969-d8268f1772fd',\n",
       "   'reportType': 'PowerBIReport',\n",
       "   'name': 'EDA_powerbi',\n",
       "   'webUrl': 'https://app.powerbi.com/groups/me/reports/cb1aa14a-9f2c-4a77-9969-d8268f1772fd',\n",
       "   'embedUrl': 'https://app.powerbi.com/reportEmbed?reportId=cb1aa14a-9f2c-4a77-9969-d8268f1772fd&config=eyJjbHVzdGVyVXJsIjoiaHR0cHM6Ly9XQUJJLVNPVVRILUVBU1QtQVNJQS1yZWRpcmVjdC5hbmFseXNpcy53aW5kb3dzLm5ldCIsImVtYmVkRmVhdHVyZXMiOnsibW9kZXJuRW1iZWQiOnRydWUsInVzYWdlTWV0cmljc1ZOZXh0Ijp0cnVlfX0%3d',\n",
       "   'isOwnedByMe': True,\n",
       "   'datasetId': '38f1b068-112f-41cf-853a-858a89be7085',\n",
       "   'users': [],\n",
       "   'subscriptions': []},\n",
       "  {'id': 'fed3510c-9b45-4639-b699-4283a6acd33c',\n",
       "   'reportType': 'PowerBIReport',\n",
       "   'name': 'tgfcyv',\n",
       "   'webUrl': 'https://app.powerbi.com/groups/me/reports/fed3510c-9b45-4639-b699-4283a6acd33c',\n",
       "   'embedUrl': 'https://app.powerbi.com/reportEmbed?reportId=fed3510c-9b45-4639-b699-4283a6acd33c&config=eyJjbHVzdGVyVXJsIjoiaHR0cHM6Ly9XQUJJLVNPVVRILUVBU1QtQVNJQS1yZWRpcmVjdC5hbmFseXNpcy53aW5kb3dzLm5ldCIsImVtYmVkRmVhdHVyZXMiOnsibW9kZXJuRW1iZWQiOnRydWUsInVzYWdlTWV0cmljc1ZOZXh0Ijp0cnVlfX0%3d',\n",
       "   'isOwnedByMe': True,\n",
       "   'datasetId': 'd33b0c41-7b4c-4dd8-944f-502f3bddf1c4',\n",
       "   'users': [],\n",
       "   'subscriptions': []}]}"
      ]
     },
     "execution_count": 192,
     "metadata": {},
     "output_type": "execute_result"
    }
   ],
   "source": [
    "report_info_json"
   ]
  },
  {
   "cell_type": "markdown",
   "id": "b9b66e98",
   "metadata": {},
   "source": [
    "I'm interested in the report named 'EDA_powerbi'. To access it here, I would have to use it's embedUrl as present\n",
    "in the json output, along with the access_code as gathered eariler."
   ]
  },
  {
   "cell_type": "code",
   "execution_count": 201,
   "id": "6057f770",
   "metadata": {},
   "outputs": [],
   "source": [
    "embed_url=report_info_json['value'][0]['embedUrl']\n",
    "#embed_url"
   ]
  },
  {
   "cell_type": "code",
   "execution_count": 202,
   "id": "41784299",
   "metadata": {},
   "outputs": [],
   "source": [
    "report=Report(embed_url='https://app.powerbi.com/reportEmbed?reportId=cb1aa14a-9f2c-4a77-9969-d8268f1772fd&config=eyJjbHVzdGVyVXJsIjoiaHR0cHM6Ly9XQUJJLVNPVVRILUVBU1QtQVNJQS1yZWRpcmVjdC5hbmFseXNpcy53aW5kb3dzLm5ldCIsImVtYmVkRmVhdHVyZXMiOnsibW9kZXJuRW1iZWQiOnRydWUsInVzYWdlTWV0cmljc1ZOZXh0Ijp0cnVlfX0%3d',access_token=access_token)"
   ]
  },
  {
   "cell_type": "code",
   "execution_count": 203,
   "id": "74188b13",
   "metadata": {
    "scrolled": false
   },
   "outputs": [
    {
     "data": {
      "application/vnd.jupyter.widget-view+json": {
       "model_id": "5e28f441cd3f41cbb66a20f2de4aaff8",
       "version_major": 2,
       "version_minor": 0
      },
      "text/plain": [
       "Report()"
      ]
     },
     "metadata": {},
     "output_type": "display_data"
    }
   ],
   "source": [
    "report\n",
    "#live responsive power bi report accessed"
   ]
  },
  {
   "cell_type": "code",
   "execution_count": 163,
   "id": "7e2078e8",
   "metadata": {},
   "outputs": [
    {
     "data": {
      "text/plain": [
       "'ReportSection'"
      ]
     },
     "execution_count": 163,
     "metadata": {},
     "output_type": "execute_result"
    }
   ],
   "source": [
    "active_page=report.get_pages()[0]['name']\n",
    "active_page"
   ]
  },
  {
   "cell_type": "code",
   "execution_count": 167,
   "id": "845dede8",
   "metadata": {},
   "outputs": [
    {
     "data": {
      "text/plain": [
       "[{'name': 'a4e6c8e2bd1060000010',\n",
       "  'title': 'Profit by Country',\n",
       "  'type': 'lineChart',\n",
       "  'layout': {'x': 22,\n",
       "   'y': 290,\n",
       "   'z': 0,\n",
       "   'width': 348,\n",
       "   'height': 408,\n",
       "   'displayState': {'mode': 0}}},\n",
       " {'name': 'b4d05cd0aa4b844d0e62',\n",
       "  'title': 'Card',\n",
       "  'type': 'card',\n",
       "  'layout': {'x': 22,\n",
       "   'y': 24,\n",
       "   'z': 1000,\n",
       "   'width': 348,\n",
       "   'height': 256,\n",
       "   'displayState': {'mode': 0}}},\n",
       " {'name': '6a16b80d0800a9340ea5',\n",
       "  'title': 'Card',\n",
       "  'type': 'card',\n",
       "  'layout': {'x': 386,\n",
       "   'y': 24,\n",
       "   'z': 2000,\n",
       "   'width': 304,\n",
       "   'height': 256,\n",
       "   'displayState': {'mode': 0}}},\n",
       " {'name': '125eeedf0505da903779',\n",
       "  'title': 'Card',\n",
       "  'type': 'card',\n",
       "  'layout': {'x': 708,\n",
       "   'y': 24,\n",
       "   'z': 3000,\n",
       "   'width': 192,\n",
       "   'height': 256,\n",
       "   'displayState': {'mode': 0}}},\n",
       " {'name': '52620c0bc0255d1053ce',\n",
       "  'title': 'Profit, Discounts and Units Sold by Product',\n",
       "  'type': 'barChart',\n",
       "  'layout': {'x': 384,\n",
       "   'y': 290,\n",
       "   'z': 4000,\n",
       "   'width': 516,\n",
       "   'height': 408,\n",
       "   'displayState': {'mode': 0}}},\n",
       " {'name': '5489e3fbb8aa5916a91b',\n",
       "  'title': 'Gross Sales and Profit by Month Name',\n",
       "  'type': 'areaChart',\n",
       "  'layout': {'x': 918,\n",
       "   'y': 290,\n",
       "   'z': 5000,\n",
       "   'width': 340,\n",
       "   'height': 408,\n",
       "   'displayState': {'mode': 0}}},\n",
       " {'name': '7b6f2081a0c641a71234',\n",
       "  'title': 'Profit and Profit by Year',\n",
       "  'type': 'donutChart',\n",
       "  'layout': {'x': 918,\n",
       "   'y': 24,\n",
       "   'z': 6000,\n",
       "   'width': 340,\n",
       "   'height': 256,\n",
       "   'displayState': {'mode': 0}}}]"
      ]
     },
     "execution_count": 167,
     "metadata": {},
     "output_type": "execute_result"
    }
   ],
   "source": [
    "visuals=report.visuals_on_page(active_page)\n",
    "visuals"
   ]
  },
  {
   "cell_type": "markdown",
   "id": "86eea992",
   "metadata": {},
   "source": [
    "# Other stuff that can be accessed through the API."
   ]
  },
  {
   "cell_type": "markdown",
   "id": "7cca978b",
   "metadata": {},
   "source": [
    "Honestly, this is just the tip of the iceberg. Feel free to play around with the REST API. Official documentation:\n",
    "    \n",
    "https://docs.microsoft.com/en-us/rest/api/power-bi/"
   ]
  },
  {
   "cell_type": "code",
   "execution_count": 145,
   "id": "9b7fb0ea",
   "metadata": {},
   "outputs": [
    {
     "data": {
      "text/plain": [
       "{'@odata.context': 'http://wabi-south-east-asia-redirect.analysis.windows.net/v1.0/myorg/$metadata#groups',\n",
       " '@odata.count': 1,\n",
       " 'value': [{'id': '9d7d3f8f-982e-45c9-a85b-a379ff887f26',\n",
       "   'isReadOnly': False,\n",
       "   'isOnDedicatedCapacity': False,\n",
       "   'type': 'Workspace',\n",
       "   'name': 'SSQ'}]}"
      ]
     },
     "execution_count": 145,
     "metadata": {},
     "output_type": "execute_result"
    }
   ],
   "source": [
    "group_service=power_bi_client.groups()\n",
    "\n",
    "group_service.get_groups() #workspaces/groups along with their ID's"
   ]
  },
  {
   "cell_type": "code",
   "execution_count": 146,
   "id": "66c4d557",
   "metadata": {},
   "outputs": [
    {
     "data": {
      "text/plain": [
       "{'@odata.context': 'http://wabi-south-east-asia-redirect.analysis.windows.net/v1.0/myorg/$metadata#dashboards',\n",
       " 'value': [{'id': '8304d583-332f-4686-8dc9-06931ba43f40',\n",
       "   'displayName': 'my_new_dashboard',\n",
       "   'isReadOnly': False,\n",
       "   'webUrl': 'https://app.powerbi.com/groups/me/dashboards/8304d583-332f-4686-8dc9-06931ba43f40',\n",
       "   'embedUrl': 'https://app.powerbi.com/dashboardEmbed?dashboardId=8304d583-332f-4686-8dc9-06931ba43f40&config=eyJjbHVzdGVyVXJsIjoiaHR0cHM6Ly9XQUJJLVNPVVRILUVBU1QtQVNJQS1yZWRpcmVjdC5hbmFseXNpcy53aW5kb3dzLm5ldCIsImVtYmVkRmVhdHVyZXMiOnsibW9kZXJuRW1iZWQiOmZhbHNlfX0%3d',\n",
       "   'users': [],\n",
       "   'subscriptions': []},\n",
       "  {'id': '8e243120-f379-44b0-9af5-2dced720cd2b',\n",
       "   'displayName': 'sales-of-shampoo-over-a-three-ye.csv',\n",
       "   'isReadOnly': False,\n",
       "   'webUrl': 'https://app.powerbi.com/groups/me/dashboards/8e243120-f379-44b0-9af5-2dced720cd2b',\n",
       "   'embedUrl': 'https://app.powerbi.com/dashboardEmbed?dashboardId=8e243120-f379-44b0-9af5-2dced720cd2b&config=eyJjbHVzdGVyVXJsIjoiaHR0cHM6Ly9XQUJJLVNPVVRILUVBU1QtQVNJQS1yZWRpcmVjdC5hbmFseXNpcy53aW5kb3dzLm5ldCIsImVtYmVkRmVhdHVyZXMiOnsibW9kZXJuRW1iZWQiOmZhbHNlfX0%3d',\n",
       "   'users': [],\n",
       "   'subscriptions': []},\n",
       "  {'id': 'e7b389a6-d90a-47b5-a9de-4146ded28ef0',\n",
       "   'displayName': 'test',\n",
       "   'isReadOnly': False,\n",
       "   'webUrl': 'https://app.powerbi.com/groups/me/dashboards/e7b389a6-d90a-47b5-a9de-4146ded28ef0',\n",
       "   'embedUrl': 'https://app.powerbi.com/dashboardEmbed?dashboardId=e7b389a6-d90a-47b5-a9de-4146ded28ef0&config=eyJjbHVzdGVyVXJsIjoiaHR0cHM6Ly9XQUJJLVNPVVRILUVBU1QtQVNJQS1yZWRpcmVjdC5hbmFseXNpcy53aW5kb3dzLm5ldCIsImVtYmVkRmVhdHVyZXMiOnsibW9kZXJuRW1iZWQiOmZhbHNlfX0%3d',\n",
       "   'users': [],\n",
       "   'subscriptions': []},\n",
       "  {'id': '3e9eeecc-f5db-4602-b4b0-7a72872a4df3',\n",
       "   'displayName': 'my_new_dashboard',\n",
       "   'isReadOnly': False,\n",
       "   'webUrl': 'https://app.powerbi.com/groups/me/dashboards/3e9eeecc-f5db-4602-b4b0-7a72872a4df3',\n",
       "   'embedUrl': 'https://app.powerbi.com/dashboardEmbed?dashboardId=3e9eeecc-f5db-4602-b4b0-7a72872a4df3&config=eyJjbHVzdGVyVXJsIjoiaHR0cHM6Ly9XQUJJLVNPVVRILUVBU1QtQVNJQS1yZWRpcmVjdC5hbmFseXNpcy53aW5kb3dzLm5ldCIsImVtYmVkRmVhdHVyZXMiOnsibW9kZXJuRW1iZWQiOmZhbHNlfX0%3d',\n",
       "   'users': [],\n",
       "   'subscriptions': []},\n",
       "  {'id': '94229b6d-c2d1-4a8c-9a24-ae4ec6f4f1f7',\n",
       "   'displayName': 'my_new_dashboard',\n",
       "   'isReadOnly': False,\n",
       "   'webUrl': 'https://app.powerbi.com/groups/me/dashboards/94229b6d-c2d1-4a8c-9a24-ae4ec6f4f1f7',\n",
       "   'embedUrl': 'https://app.powerbi.com/dashboardEmbed?dashboardId=94229b6d-c2d1-4a8c-9a24-ae4ec6f4f1f7&config=eyJjbHVzdGVyVXJsIjoiaHR0cHM6Ly9XQUJJLVNPVVRILUVBU1QtQVNJQS1yZWRpcmVjdC5hbmFseXNpcy53aW5kb3dzLm5ldCIsImVtYmVkRmVhdHVyZXMiOnsibW9kZXJuRW1iZWQiOmZhbHNlfX0%3d',\n",
       "   'users': [],\n",
       "   'subscriptions': []}]}"
      ]
     },
     "execution_count": 146,
     "metadata": {},
     "output_type": "execute_result"
    }
   ],
   "source": [
    "dashboard_service=power_bi_client.dashboards()\n",
    "dashboard_service.get_dashboards() #dasboards along with their ID's"
   ]
  },
  {
   "cell_type": "code",
   "execution_count": null,
   "id": "5895d7d7",
   "metadata": {},
   "outputs": [],
   "source": []
  },
  {
   "cell_type": "code",
   "execution_count": null,
   "id": "5a7f2938",
   "metadata": {},
   "outputs": [],
   "source": []
  },
  {
   "cell_type": "code",
   "execution_count": null,
   "id": "43e8a12a",
   "metadata": {},
   "outputs": [],
   "source": []
  }
 ],
 "metadata": {
  "kernelspec": {
   "display_name": "Python 3 (ipykernel)",
   "language": "python",
   "name": "python3"
  },
  "language_info": {
   "codemirror_mode": {
    "name": "ipython",
    "version": 3
   },
   "file_extension": ".py",
   "mimetype": "text/x-python",
   "name": "python",
   "nbconvert_exporter": "python",
   "pygments_lexer": "ipython3",
   "version": "3.9.7"
  }
 },
 "nbformat": 4,
 "nbformat_minor": 5
}
